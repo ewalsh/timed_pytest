{
 "cells": [
  {
   "cell_type": "markdown",
   "metadata": {},
   "source": [
    "# <p style=\"text-align: center;\">Quick Air Quality Model</p>\n",
    "#### <p style=\"text-align: center;\">Edmund Walsh -- Aug. 27th, 2020</p>\n",
    "\n",
    "The structure of this analysis will be to:\n",
    "1. Load and clean the data\n",
    "2. Answer a few questions about the data\n",
    "3. Build A Simple Linear Model\n",
    "4. Build a Benchmark Model and Compare\n",
    "\n",
    "### Data\n",
    "The data for this analysis comes from the UCI Machine Learning Repository and can be found here: https://archive.ics.uci.edu/ml/datasets/Air+quality. The dataset contains 9358 instances of hourly averaged responses from an array of 5 metal oxide chemical sensors embedded in an Air Quality Chemical Multisensor Device. The device was located on the field in a significantly polluted area, at road level,within an Italian city. Data were recorded from March 2004 to February 2005 (one year)representing the longest freely available recordings of on field deployed air quality chemical sensor devices responses. Ground Truth hourly averaged concentrations for CO, Non Metanic Hydrocarbons, Benzene, Total Nitrogen Oxides (NOx) and Nitrogen Dioxide (NO2) and were provided by a co-located reference certified analyzer. Evidences of cross-sensitivities as well as both concept and sensor drifts are present as described in De Vito et al., Sens. And Act. B, Vol. 129,2,2008 (citation required) eventually affecting sensors concentration estimation capabilities. Missing values are tagged with -200 value.\n",
    "This dataset can be used exclusively for research purposes. Commercial purposes are fully excluded. "
   ]
  },
  {
   "cell_type": "code",
   "execution_count": 1,
   "metadata": {},
   "outputs": [
    {
     "name": "stdout",
     "output_type": "stream",
     "text": [
      "100% [..........................................................................] 1543989 / 1543989"
     ]
    }
   ],
   "source": [
    "# download data\n",
    "import wget\n",
    "url = 'https://archive.ics.uci.edu/ml/machine-learning-databases/00360/AirQualityUCI.zip'\n",
    "filename = wget.download(url)"
   ]
  },
  {
   "cell_type": "markdown",
   "metadata": {},
   "source": [
    "After downloading, unzip the file in the directory"
   ]
  },
  {
   "cell_type": "code",
   "execution_count": 1,
   "metadata": {},
   "outputs": [],
   "source": [
    "import numpy as np\n",
    "import pandas as pd\n",
    "import statistics\n",
    "import datetime\n",
    "import math"
   ]
  },
  {
   "cell_type": "code",
   "execution_count": 16,
   "metadata": {},
   "outputs": [
    {
     "data": {
      "text/html": [
       "<div>\n",
       "<style scoped>\n",
       "    .dataframe tbody tr th:only-of-type {\n",
       "        vertical-align: middle;\n",
       "    }\n",
       "\n",
       "    .dataframe tbody tr th {\n",
       "        vertical-align: top;\n",
       "    }\n",
       "\n",
       "    .dataframe thead th {\n",
       "        text-align: right;\n",
       "    }\n",
       "</style>\n",
       "<table border=\"1\" class=\"dataframe\">\n",
       "  <thead>\n",
       "    <tr style=\"text-align: right;\">\n",
       "      <th></th>\n",
       "      <th>Date</th>\n",
       "      <th>Time</th>\n",
       "      <th>CO(GT)</th>\n",
       "      <th>PT08.S1(CO)</th>\n",
       "      <th>NMHC(GT)</th>\n",
       "      <th>C6H6(GT)</th>\n",
       "      <th>PT08.S2(NMHC)</th>\n",
       "      <th>NOx(GT)</th>\n",
       "      <th>PT08.S3(NOx)</th>\n",
       "      <th>NO2(GT)</th>\n",
       "      <th>PT08.S4(NO2)</th>\n",
       "      <th>PT08.S5(O3)</th>\n",
       "      <th>T</th>\n",
       "      <th>RH</th>\n",
       "      <th>AH</th>\n",
       "      <th>Unnamed: 15</th>\n",
       "      <th>Unnamed: 16</th>\n",
       "    </tr>\n",
       "  </thead>\n",
       "  <tbody>\n",
       "    <tr>\n",
       "      <th>0</th>\n",
       "      <td>2004-10-03</td>\n",
       "      <td>18.00.00</td>\n",
       "      <td>26.0</td>\n",
       "      <td>1360.0</td>\n",
       "      <td>150.0</td>\n",
       "      <td>119.0</td>\n",
       "      <td>1046.0</td>\n",
       "      <td>166.0</td>\n",
       "      <td>1056.0</td>\n",
       "      <td>113.0</td>\n",
       "      <td>1692.0</td>\n",
       "      <td>1268.0</td>\n",
       "      <td>136.0</td>\n",
       "      <td>489.0</td>\n",
       "      <td>7578.0</td>\n",
       "      <td>NaN</td>\n",
       "      <td>NaN</td>\n",
       "    </tr>\n",
       "    <tr>\n",
       "      <th>1</th>\n",
       "      <td>2004-10-03</td>\n",
       "      <td>19.00.00</td>\n",
       "      <td>2.0</td>\n",
       "      <td>1292.0</td>\n",
       "      <td>112.0</td>\n",
       "      <td>94.0</td>\n",
       "      <td>955.0</td>\n",
       "      <td>103.0</td>\n",
       "      <td>1174.0</td>\n",
       "      <td>92.0</td>\n",
       "      <td>1559.0</td>\n",
       "      <td>972.0</td>\n",
       "      <td>133.0</td>\n",
       "      <td>477.0</td>\n",
       "      <td>7255.0</td>\n",
       "      <td>NaN</td>\n",
       "      <td>NaN</td>\n",
       "    </tr>\n",
       "    <tr>\n",
       "      <th>2</th>\n",
       "      <td>2004-10-03</td>\n",
       "      <td>20.00.00</td>\n",
       "      <td>22.0</td>\n",
       "      <td>1402.0</td>\n",
       "      <td>88.0</td>\n",
       "      <td>90.0</td>\n",
       "      <td>939.0</td>\n",
       "      <td>131.0</td>\n",
       "      <td>1140.0</td>\n",
       "      <td>114.0</td>\n",
       "      <td>1555.0</td>\n",
       "      <td>1074.0</td>\n",
       "      <td>119.0</td>\n",
       "      <td>540.0</td>\n",
       "      <td>7502.0</td>\n",
       "      <td>NaN</td>\n",
       "      <td>NaN</td>\n",
       "    </tr>\n",
       "    <tr>\n",
       "      <th>3</th>\n",
       "      <td>2004-10-03</td>\n",
       "      <td>21.00.00</td>\n",
       "      <td>22.0</td>\n",
       "      <td>1376.0</td>\n",
       "      <td>80.0</td>\n",
       "      <td>92.0</td>\n",
       "      <td>948.0</td>\n",
       "      <td>172.0</td>\n",
       "      <td>1092.0</td>\n",
       "      <td>122.0</td>\n",
       "      <td>1584.0</td>\n",
       "      <td>1203.0</td>\n",
       "      <td>110.0</td>\n",
       "      <td>600.0</td>\n",
       "      <td>7867.0</td>\n",
       "      <td>NaN</td>\n",
       "      <td>NaN</td>\n",
       "    </tr>\n",
       "    <tr>\n",
       "      <th>4</th>\n",
       "      <td>2004-10-03</td>\n",
       "      <td>22.00.00</td>\n",
       "      <td>16.0</td>\n",
       "      <td>1272.0</td>\n",
       "      <td>51.0</td>\n",
       "      <td>65.0</td>\n",
       "      <td>836.0</td>\n",
       "      <td>131.0</td>\n",
       "      <td>1205.0</td>\n",
       "      <td>116.0</td>\n",
       "      <td>1490.0</td>\n",
       "      <td>1110.0</td>\n",
       "      <td>112.0</td>\n",
       "      <td>596.0</td>\n",
       "      <td>7888.0</td>\n",
       "      <td>NaN</td>\n",
       "      <td>NaN</td>\n",
       "    </tr>\n",
       "  </tbody>\n",
       "</table>\n",
       "</div>"
      ],
      "text/plain": [
       "        Date      Time  CO(GT)  PT08.S1(CO)  NMHC(GT)  C6H6(GT)  \\\n",
       "0 2004-10-03  18.00.00    26.0       1360.0     150.0     119.0   \n",
       "1 2004-10-03  19.00.00     2.0       1292.0     112.0      94.0   \n",
       "2 2004-10-03  20.00.00    22.0       1402.0      88.0      90.0   \n",
       "3 2004-10-03  21.00.00    22.0       1376.0      80.0      92.0   \n",
       "4 2004-10-03  22.00.00    16.0       1272.0      51.0      65.0   \n",
       "\n",
       "   PT08.S2(NMHC)  NOx(GT)  PT08.S3(NOx)  NO2(GT)  PT08.S4(NO2)  PT08.S5(O3)  \\\n",
       "0         1046.0    166.0        1056.0    113.0        1692.0       1268.0   \n",
       "1          955.0    103.0        1174.0     92.0        1559.0        972.0   \n",
       "2          939.0    131.0        1140.0    114.0        1555.0       1074.0   \n",
       "3          948.0    172.0        1092.0    122.0        1584.0       1203.0   \n",
       "4          836.0    131.0        1205.0    116.0        1490.0       1110.0   \n",
       "\n",
       "       T     RH      AH  Unnamed: 15  Unnamed: 16  \n",
       "0  136.0  489.0  7578.0          NaN          NaN  \n",
       "1  133.0  477.0  7255.0          NaN          NaN  \n",
       "2  119.0  540.0  7502.0          NaN          NaN  \n",
       "3  110.0  600.0  7867.0          NaN          NaN  \n",
       "4  112.0  596.0  7888.0          NaN          NaN  "
      ]
     },
     "execution_count": 16,
     "metadata": {},
     "output_type": "execute_result"
    }
   ],
   "source": [
    "## load data and a quick lookover\n",
    "airqual = pd.read_csv('./AirQualityUCI/AirQualityUCI.csv', sep=\";\", thousands=\",\", parse_dates=[\"Date\",\"Time\"])\n",
    "airqual.head()"
   ]
  },
  {
   "cell_type": "markdown",
   "metadata": {},
   "source": [
    "Looking at the description of the data below, we can see some suspect values. In the data section above, it does state that missing values are represented as -200 but there are also values of -2000 which, for this analysis, we will assume are also missing."
   ]
  },
  {
   "cell_type": "code",
   "execution_count": 17,
   "metadata": {},
   "outputs": [
    {
     "data": {
      "text/html": [
       "<div>\n",
       "<style scoped>\n",
       "    .dataframe tbody tr th:only-of-type {\n",
       "        vertical-align: middle;\n",
       "    }\n",
       "\n",
       "    .dataframe tbody tr th {\n",
       "        vertical-align: top;\n",
       "    }\n",
       "\n",
       "    .dataframe thead th {\n",
       "        text-align: right;\n",
       "    }\n",
       "</style>\n",
       "<table border=\"1\" class=\"dataframe\">\n",
       "  <thead>\n",
       "    <tr style=\"text-align: right;\">\n",
       "      <th></th>\n",
       "      <th>CO(GT)</th>\n",
       "      <th>PT08.S1(CO)</th>\n",
       "      <th>NMHC(GT)</th>\n",
       "      <th>C6H6(GT)</th>\n",
       "      <th>PT08.S2(NMHC)</th>\n",
       "      <th>NOx(GT)</th>\n",
       "      <th>PT08.S3(NOx)</th>\n",
       "      <th>NO2(GT)</th>\n",
       "      <th>PT08.S4(NO2)</th>\n",
       "      <th>PT08.S5(O3)</th>\n",
       "      <th>T</th>\n",
       "      <th>RH</th>\n",
       "      <th>AH</th>\n",
       "      <th>Unnamed: 15</th>\n",
       "      <th>Unnamed: 16</th>\n",
       "    </tr>\n",
       "  </thead>\n",
       "  <tbody>\n",
       "    <tr>\n",
       "      <th>count</th>\n",
       "      <td>9357.000000</td>\n",
       "      <td>9357.000000</td>\n",
       "      <td>9357.000000</td>\n",
       "      <td>9357.000000</td>\n",
       "      <td>9357.000000</td>\n",
       "      <td>9357.000000</td>\n",
       "      <td>9357.000000</td>\n",
       "      <td>9357.000000</td>\n",
       "      <td>9357.000000</td>\n",
       "      <td>9357.000000</td>\n",
       "      <td>9357.000000</td>\n",
       "      <td>9357.000000</td>\n",
       "      <td>9357.000000</td>\n",
       "      <td>0.0</td>\n",
       "      <td>0.0</td>\n",
       "    </tr>\n",
       "    <tr>\n",
       "      <th>mean</th>\n",
       "      <td>-36.996687</td>\n",
       "      <td>1048.990061</td>\n",
       "      <td>-159.090093</td>\n",
       "      <td>18.656834</td>\n",
       "      <td>894.595276</td>\n",
       "      <td>168.616971</td>\n",
       "      <td>794.990168</td>\n",
       "      <td>58.148873</td>\n",
       "      <td>1391.479641</td>\n",
       "      <td>975.072032</td>\n",
       "      <td>168.190232</td>\n",
       "      <td>465.260981</td>\n",
       "      <td>9846.342524</td>\n",
       "      <td>NaN</td>\n",
       "      <td>NaN</td>\n",
       "    </tr>\n",
       "    <tr>\n",
       "      <th>std</th>\n",
       "      <td>211.793927</td>\n",
       "      <td>329.832710</td>\n",
       "      <td>139.789093</td>\n",
       "      <td>413.802064</td>\n",
       "      <td>342.333252</td>\n",
       "      <td>257.433866</td>\n",
       "      <td>321.993552</td>\n",
       "      <td>126.940455</td>\n",
       "      <td>467.210125</td>\n",
       "      <td>456.938184</td>\n",
       "      <td>114.081191</td>\n",
       "      <td>216.407635</td>\n",
       "      <td>4447.196714</td>\n",
       "      <td>NaN</td>\n",
       "      <td>NaN</td>\n",
       "    </tr>\n",
       "    <tr>\n",
       "      <th>min</th>\n",
       "      <td>-2000.000000</td>\n",
       "      <td>-200.000000</td>\n",
       "      <td>-200.000000</td>\n",
       "      <td>-2000.000000</td>\n",
       "      <td>-200.000000</td>\n",
       "      <td>-200.000000</td>\n",
       "      <td>-200.000000</td>\n",
       "      <td>-200.000000</td>\n",
       "      <td>-200.000000</td>\n",
       "      <td>-200.000000</td>\n",
       "      <td>-200.000000</td>\n",
       "      <td>-200.000000</td>\n",
       "      <td>-200.000000</td>\n",
       "      <td>NaN</td>\n",
       "      <td>NaN</td>\n",
       "    </tr>\n",
       "    <tr>\n",
       "      <th>25%</th>\n",
       "      <td>4.000000</td>\n",
       "      <td>921.000000</td>\n",
       "      <td>-200.000000</td>\n",
       "      <td>40.000000</td>\n",
       "      <td>711.000000</td>\n",
       "      <td>50.000000</td>\n",
       "      <td>637.000000</td>\n",
       "      <td>53.000000</td>\n",
       "      <td>1185.000000</td>\n",
       "      <td>700.000000</td>\n",
       "      <td>109.000000</td>\n",
       "      <td>341.000000</td>\n",
       "      <td>6923.000000</td>\n",
       "      <td>NaN</td>\n",
       "      <td>NaN</td>\n",
       "    </tr>\n",
       "    <tr>\n",
       "      <th>50%</th>\n",
       "      <td>14.000000</td>\n",
       "      <td>1053.000000</td>\n",
       "      <td>-200.000000</td>\n",
       "      <td>79.000000</td>\n",
       "      <td>895.000000</td>\n",
       "      <td>141.000000</td>\n",
       "      <td>794.000000</td>\n",
       "      <td>96.000000</td>\n",
       "      <td>1446.000000</td>\n",
       "      <td>942.000000</td>\n",
       "      <td>172.000000</td>\n",
       "      <td>486.000000</td>\n",
       "      <td>9768.000000</td>\n",
       "      <td>NaN</td>\n",
       "      <td>NaN</td>\n",
       "    </tr>\n",
       "    <tr>\n",
       "      <th>75%</th>\n",
       "      <td>25.000000</td>\n",
       "      <td>1221.000000</td>\n",
       "      <td>-200.000000</td>\n",
       "      <td>136.000000</td>\n",
       "      <td>1105.000000</td>\n",
       "      <td>284.000000</td>\n",
       "      <td>960.000000</td>\n",
       "      <td>133.000000</td>\n",
       "      <td>1662.000000</td>\n",
       "      <td>1255.000000</td>\n",
       "      <td>241.000000</td>\n",
       "      <td>619.000000</td>\n",
       "      <td>12962.000000</td>\n",
       "      <td>NaN</td>\n",
       "      <td>NaN</td>\n",
       "    </tr>\n",
       "    <tr>\n",
       "      <th>max</th>\n",
       "      <td>119.000000</td>\n",
       "      <td>2040.000000</td>\n",
       "      <td>1189.000000</td>\n",
       "      <td>637.000000</td>\n",
       "      <td>2214.000000</td>\n",
       "      <td>1479.000000</td>\n",
       "      <td>2683.000000</td>\n",
       "      <td>340.000000</td>\n",
       "      <td>2775.000000</td>\n",
       "      <td>2523.000000</td>\n",
       "      <td>446.000000</td>\n",
       "      <td>887.000000</td>\n",
       "      <td>22310.000000</td>\n",
       "      <td>NaN</td>\n",
       "      <td>NaN</td>\n",
       "    </tr>\n",
       "  </tbody>\n",
       "</table>\n",
       "</div>"
      ],
      "text/plain": [
       "            CO(GT)  PT08.S1(CO)     NMHC(GT)     C6H6(GT)  PT08.S2(NMHC)  \\\n",
       "count  9357.000000  9357.000000  9357.000000  9357.000000    9357.000000   \n",
       "mean    -36.996687  1048.990061  -159.090093    18.656834     894.595276   \n",
       "std     211.793927   329.832710   139.789093   413.802064     342.333252   \n",
       "min   -2000.000000  -200.000000  -200.000000 -2000.000000    -200.000000   \n",
       "25%       4.000000   921.000000  -200.000000    40.000000     711.000000   \n",
       "50%      14.000000  1053.000000  -200.000000    79.000000     895.000000   \n",
       "75%      25.000000  1221.000000  -200.000000   136.000000    1105.000000   \n",
       "max     119.000000  2040.000000  1189.000000   637.000000    2214.000000   \n",
       "\n",
       "           NOx(GT)  PT08.S3(NOx)      NO2(GT)  PT08.S4(NO2)  PT08.S5(O3)  \\\n",
       "count  9357.000000   9357.000000  9357.000000   9357.000000  9357.000000   \n",
       "mean    168.616971    794.990168    58.148873   1391.479641   975.072032   \n",
       "std     257.433866    321.993552   126.940455    467.210125   456.938184   \n",
       "min    -200.000000   -200.000000  -200.000000   -200.000000  -200.000000   \n",
       "25%      50.000000    637.000000    53.000000   1185.000000   700.000000   \n",
       "50%     141.000000    794.000000    96.000000   1446.000000   942.000000   \n",
       "75%     284.000000    960.000000   133.000000   1662.000000  1255.000000   \n",
       "max    1479.000000   2683.000000   340.000000   2775.000000  2523.000000   \n",
       "\n",
       "                 T           RH            AH  Unnamed: 15  Unnamed: 16  \n",
       "count  9357.000000  9357.000000   9357.000000          0.0          0.0  \n",
       "mean    168.190232   465.260981   9846.342524          NaN          NaN  \n",
       "std     114.081191   216.407635   4447.196714          NaN          NaN  \n",
       "min    -200.000000  -200.000000   -200.000000          NaN          NaN  \n",
       "25%     109.000000   341.000000   6923.000000          NaN          NaN  \n",
       "50%     172.000000   486.000000   9768.000000          NaN          NaN  \n",
       "75%     241.000000   619.000000  12962.000000          NaN          NaN  \n",
       "max     446.000000   887.000000  22310.000000          NaN          NaN  "
      ]
     },
     "execution_count": 17,
     "metadata": {},
     "output_type": "execute_result"
    }
   ],
   "source": [
    "airqual.describe()"
   ]
  },
  {
   "cell_type": "markdown",
   "metadata": {},
   "source": [
    "Preprocessing is an important part of data science. However, given that this is a quick overview. I am normally hesitant to apply this kind of technique to the data as it can be easy to drop out insights. This is a preference, but in short, I prefer to have solid justification for any change to the data. Therefore, we will take a more direct approach for filling in these missing values.\n",
    "\n",
    "### Data Insights\n",
    "The next section of the test looks for a few data points within our air quality data set.\n",
    "1. What what the average CO level during the month of May in 2004\n",
    "2. What is the most common day and time for the highest CO\n",
    "3. Which month had the lowest average humidity\n",
    "4. What are the correlations of the different variables to CO"
   ]
  },
  {
   "cell_type": "code",
   "execution_count": 18,
   "metadata": {},
   "outputs": [],
   "source": [
    "%%capture\n",
    "may_df = airqual[airqual['Date'] > '2004-04-30']\n",
    "may_df = may_df[airqual['Date'] < '2004-06-1']\n",
    "may_co_mean = statistics.mean(may_df['CO(GT)'])"
   ]
  },
  {
   "cell_type": "code",
   "execution_count": 19,
   "metadata": {},
   "outputs": [
    {
     "data": {
      "text/plain": [
       "'The Average CO Level During May 2004 was -31.67'"
      ]
     },
     "execution_count": 19,
     "metadata": {},
     "output_type": "execute_result"
    }
   ],
   "source": [
    "\"The Average CO Level During May 2004 was {:.2f}\".format(may_co_mean)"
   ]
  },
  {
   "cell_type": "code",
   "execution_count": 20,
   "metadata": {},
   "outputs": [
    {
     "data": {
      "text/plain": [
       "'The highest CO levels are at the going into Wednesday, about halfway between Tuesday and Wednesday, at just after 6:30pm'"
      ]
     },
     "execution_count": 20,
     "metadata": {},
     "output_type": "execute_result"
    }
   ],
   "source": [
    "top_co = airqual.sort_values([\"CO(GT)\"], ascending=False).iloc[:10,]\n",
    "avg_toptime = statistics.mean(list(map(lambda x: int(x[:2]),top_co['Time'])))\n",
    "avg_day = statistics.mean(list(map(lambda x: x.weekday(), list(top_co['Date']))))\n",
    "\"The highest CO levels are at the going into Wednesday, about halfway between Tuesday and Wednesday, at just after 6:30pm\""
   ]
  },
  {
   "cell_type": "code",
   "execution_count": 21,
   "metadata": {},
   "outputs": [],
   "source": [
    "mth = list(map(lambda x: x.month, list(airqual['Date'])))\n",
    "airqual['Month'] = mth\n",
    "ah_df = airqual[[\"AH\",\"Month\"]].dropna()"
   ]
  },
  {
   "cell_type": "code",
   "execution_count": 22,
   "metadata": {},
   "outputs": [
    {
     "data": {
      "text/plain": [
       "'The lowest humidity is in December'"
      ]
     },
     "execution_count": 22,
     "metadata": {},
     "output_type": "execute_result"
    }
   ],
   "source": [
    "mean_avg_ah = ah_df.groupby('Month').mean()\n",
    "mean_avg_ah[mean_avg_ah[\"AH\"] == min(mean_avg_ah[\"AH\"])]\n",
    "\"The lowest humidity is in December\""
   ]
  },
  {
   "cell_type": "code",
   "execution_count": 11,
   "metadata": {},
   "outputs": [
    {
     "data": {
      "text/plain": [
       "NO2(GT)          0.278905\n",
       "NOx(GT)          0.264291\n",
       "PT08.S5(O3)      0.117769\n",
       "PT08.S2(NMHC)    0.109069\n",
       "NMHC(GT)         0.082723\n",
       "Month            0.075663\n",
       "PT08.S1(CO)      0.072755\n",
       "PT08.S4(NO2)     0.070430\n",
       "T                0.022497\n",
       "AH               0.002620\n",
       "C6H6(GT)        -0.007046\n",
       "RH              -0.053690\n",
       "PT08.S3(NOx)    -0.132442\n",
       "Unnamed: 15           NaN\n",
       "Unnamed: 16           NaN\n",
       "Name: CO(GT), dtype: float64"
      ]
     },
     "execution_count": 11,
     "metadata": {},
     "output_type": "execute_result"
    }
   ],
   "source": [
    "# Here we show the rank correlatino with CO of the other variables, before the cleaning step\n",
    "df_corr = airqual.corr()\n",
    "df_co_corr = df_corr['CO(GT)'][1:]\n",
    "df_co_corr.sort_values(ascending=False)"
   ]
  },
  {
   "cell_type": "markdown",
   "metadata": {},
   "source": [
    "### Cleaning the data\n",
    "In this section, we will:\n",
    "1. Clean these missing values\n",
    "2. Add a target variable which is a 1 hour lag for our model prediction"
   ]
  },
  {
   "cell_type": "code",
   "execution_count": 72,
   "metadata": {},
   "outputs": [
    {
     "name": "stdout",
     "output_type": "stream",
     "text": [
      "<class 'pandas.core.frame.DataFrame'>\n",
      "RangeIndex: 9471 entries, 0 to 9470\n",
      "Data columns (total 17 columns):\n",
      " #   Column         Non-Null Count  Dtype         \n",
      "---  ------         --------------  -----         \n",
      " 0   Date           9357 non-null   datetime64[ns]\n",
      " 1   Time           9357 non-null   object        \n",
      " 2   CO(GT)         9357 non-null   float64       \n",
      " 3   PT08.S1(CO)    9357 non-null   float64       \n",
      " 4   NMHC(GT)       9357 non-null   float64       \n",
      " 5   C6H6(GT)       9357 non-null   float64       \n",
      " 6   PT08.S2(NMHC)  9357 non-null   float64       \n",
      " 7   NOx(GT)        9357 non-null   float64       \n",
      " 8   PT08.S3(NOx)   9357 non-null   float64       \n",
      " 9   NO2(GT)        9357 non-null   float64       \n",
      " 10  PT08.S4(NO2)   9357 non-null   float64       \n",
      " 11  PT08.S5(O3)    9357 non-null   float64       \n",
      " 12  T              9357 non-null   float64       \n",
      " 13  RH             9357 non-null   float64       \n",
      " 14  AH             9357 non-null   float64       \n",
      " 15  Unnamed: 15    0 non-null      float64       \n",
      " 16  Unnamed: 16    0 non-null      float64       \n",
      "dtypes: datetime64[ns](1), float64(15), object(1)\n",
      "memory usage: 1.2+ MB\n"
     ]
    }
   ],
   "source": [
    "airqual = pd.read_csv('./AirQualityUCI/AirQualityUCI.csv', sep=\";\", thousands=\",\", parse_dates=[\"Date\",\"Time\"])\n",
    "airqual.info()"
   ]
  },
  {
   "cell_type": "code",
   "execution_count": 73,
   "metadata": {},
   "outputs": [
    {
     "name": "stdout",
     "output_type": "stream",
     "text": [
      "<class 'pandas.core.frame.DataFrame'>\n",
      "Int64Index: 9357 entries, 0 to 9356\n",
      "Data columns (total 15 columns):\n",
      " #   Column         Non-Null Count  Dtype         \n",
      "---  ------         --------------  -----         \n",
      " 0   Date           9357 non-null   datetime64[ns]\n",
      " 1   Time           9357 non-null   object        \n",
      " 2   CO(GT)         9357 non-null   float64       \n",
      " 3   PT08.S1(CO)    9357 non-null   float64       \n",
      " 4   NMHC(GT)       9357 non-null   float64       \n",
      " 5   C6H6(GT)       9357 non-null   float64       \n",
      " 6   PT08.S2(NMHC)  9357 non-null   float64       \n",
      " 7   NOx(GT)        9357 non-null   float64       \n",
      " 8   PT08.S3(NOx)   9357 non-null   float64       \n",
      " 9   NO2(GT)        9357 non-null   float64       \n",
      " 10  PT08.S4(NO2)   9357 non-null   float64       \n",
      " 11  PT08.S5(O3)    9357 non-null   float64       \n",
      " 12  T              9357 non-null   float64       \n",
      " 13  RH             9357 non-null   float64       \n",
      " 14  AH             9357 non-null   float64       \n",
      "dtypes: datetime64[ns](1), float64(13), object(1)\n",
      "memory usage: 1.1+ MB\n"
     ]
    }
   ],
   "source": [
    "# lets remove the nulls # first the columns\n",
    "airqual = airqual.iloc[:,:15]\n",
    "# then the rows\n",
    "airqual = airqual.dropna()\n",
    "airqual.info()"
   ]
  },
  {
   "cell_type": "code",
   "execution_count": 74,
   "metadata": {},
   "outputs": [
    {
     "data": {
      "text/html": [
       "<div>\n",
       "<style scoped>\n",
       "    .dataframe tbody tr th:only-of-type {\n",
       "        vertical-align: middle;\n",
       "    }\n",
       "\n",
       "    .dataframe tbody tr th {\n",
       "        vertical-align: top;\n",
       "    }\n",
       "\n",
       "    .dataframe thead th {\n",
       "        text-align: right;\n",
       "    }\n",
       "</style>\n",
       "<table border=\"1\" class=\"dataframe\">\n",
       "  <thead>\n",
       "    <tr style=\"text-align: right;\">\n",
       "      <th></th>\n",
       "      <th>CO(GT)</th>\n",
       "      <th>PT08.S1(CO)</th>\n",
       "      <th>NMHC(GT)</th>\n",
       "      <th>C6H6(GT)</th>\n",
       "      <th>PT08.S2(NMHC)</th>\n",
       "      <th>NOx(GT)</th>\n",
       "      <th>PT08.S3(NOx)</th>\n",
       "      <th>NO2(GT)</th>\n",
       "      <th>PT08.S4(NO2)</th>\n",
       "      <th>PT08.S5(O3)</th>\n",
       "      <th>T</th>\n",
       "      <th>RH</th>\n",
       "      <th>AH</th>\n",
       "    </tr>\n",
       "  </thead>\n",
       "  <tbody>\n",
       "    <tr>\n",
       "      <th>count</th>\n",
       "      <td>9357.000000</td>\n",
       "      <td>9357.000000</td>\n",
       "      <td>9357.000000</td>\n",
       "      <td>9357.000000</td>\n",
       "      <td>9357.000000</td>\n",
       "      <td>9357.000000</td>\n",
       "      <td>9357.000000</td>\n",
       "      <td>9357.000000</td>\n",
       "      <td>9357.000000</td>\n",
       "      <td>9357.000000</td>\n",
       "      <td>9357.00000</td>\n",
       "      <td>9357.000000</td>\n",
       "      <td>9357.000000</td>\n",
       "    </tr>\n",
       "    <tr>\n",
       "      <th>mean</th>\n",
       "      <td>19.509031</td>\n",
       "      <td>1102.730362</td>\n",
       "      <td>270.496740</td>\n",
       "      <td>101.903922</td>\n",
       "      <td>942.548253</td>\n",
       "      <td>240.731217</td>\n",
       "      <td>832.742225</td>\n",
       "      <td>109.414877</td>\n",
       "      <td>1453.014535</td>\n",
       "      <td>1030.511916</td>\n",
       "      <td>183.17356</td>\n",
       "      <td>488.174308</td>\n",
       "      <td>10173.815539</td>\n",
       "    </tr>\n",
       "    <tr>\n",
       "      <th>std</th>\n",
       "      <td>15.016972</td>\n",
       "      <td>219.588101</td>\n",
       "      <td>73.306853</td>\n",
       "      <td>75.657712</td>\n",
       "      <td>269.581368</td>\n",
       "      <td>206.618453</td>\n",
       "      <td>255.709423</td>\n",
       "      <td>47.221662</td>\n",
       "      <td>347.434084</td>\n",
       "      <td>410.916759</td>\n",
       "      <td>88.21883</td>\n",
       "      <td>173.543259</td>\n",
       "      <td>4048.288597</td>\n",
       "    </tr>\n",
       "    <tr>\n",
       "      <th>min</th>\n",
       "      <td>1.000000</td>\n",
       "      <td>647.000000</td>\n",
       "      <td>7.000000</td>\n",
       "      <td>1.000000</td>\n",
       "      <td>383.000000</td>\n",
       "      <td>2.000000</td>\n",
       "      <td>322.000000</td>\n",
       "      <td>2.000000</td>\n",
       "      <td>551.000000</td>\n",
       "      <td>221.000000</td>\n",
       "      <td>-19.00000</td>\n",
       "      <td>92.000000</td>\n",
       "      <td>1847.000000</td>\n",
       "    </tr>\n",
       "    <tr>\n",
       "      <th>25%</th>\n",
       "      <td>8.000000</td>\n",
       "      <td>938.000000</td>\n",
       "      <td>275.000000</td>\n",
       "      <td>44.000000</td>\n",
       "      <td>733.000000</td>\n",
       "      <td>97.000000</td>\n",
       "      <td>655.000000</td>\n",
       "      <td>73.000000</td>\n",
       "      <td>1228.000000</td>\n",
       "      <td>726.000000</td>\n",
       "      <td>119.00000</td>\n",
       "      <td>354.000000</td>\n",
       "      <td>7262.000000</td>\n",
       "    </tr>\n",
       "    <tr>\n",
       "      <th>50%</th>\n",
       "      <td>16.000000</td>\n",
       "      <td>1062.000000</td>\n",
       "      <td>275.000000</td>\n",
       "      <td>83.000000</td>\n",
       "      <td>911.000000</td>\n",
       "      <td>174.000000</td>\n",
       "      <td>807.000000</td>\n",
       "      <td>102.000000</td>\n",
       "      <td>1460.000000</td>\n",
       "      <td>964.000000</td>\n",
       "      <td>176.00000</td>\n",
       "      <td>489.000000</td>\n",
       "      <td>9875.000000</td>\n",
       "    </tr>\n",
       "    <tr>\n",
       "      <th>75%</th>\n",
       "      <td>26.000000</td>\n",
       "      <td>1237.000000</td>\n",
       "      <td>275.000000</td>\n",
       "      <td>140.000000</td>\n",
       "      <td>1117.000000</td>\n",
       "      <td>318.000000</td>\n",
       "      <td>968.000000</td>\n",
       "      <td>137.000000</td>\n",
       "      <td>1677.000000</td>\n",
       "      <td>1287.000000</td>\n",
       "      <td>243.00000</td>\n",
       "      <td>619.000000</td>\n",
       "      <td>13067.000000</td>\n",
       "    </tr>\n",
       "    <tr>\n",
       "      <th>max</th>\n",
       "      <td>119.000000</td>\n",
       "      <td>2040.000000</td>\n",
       "      <td>1189.000000</td>\n",
       "      <td>637.000000</td>\n",
       "      <td>2214.000000</td>\n",
       "      <td>1479.000000</td>\n",
       "      <td>2683.000000</td>\n",
       "      <td>340.000000</td>\n",
       "      <td>2775.000000</td>\n",
       "      <td>2523.000000</td>\n",
       "      <td>446.00000</td>\n",
       "      <td>887.000000</td>\n",
       "      <td>22310.000000</td>\n",
       "    </tr>\n",
       "  </tbody>\n",
       "</table>\n",
       "</div>"
      ],
      "text/plain": [
       "            CO(GT)  PT08.S1(CO)     NMHC(GT)     C6H6(GT)  PT08.S2(NMHC)  \\\n",
       "count  9357.000000  9357.000000  9357.000000  9357.000000    9357.000000   \n",
       "mean     19.509031  1102.730362   270.496740   101.903922     942.548253   \n",
       "std      15.016972   219.588101    73.306853    75.657712     269.581368   \n",
       "min       1.000000   647.000000     7.000000     1.000000     383.000000   \n",
       "25%       8.000000   938.000000   275.000000    44.000000     733.000000   \n",
       "50%      16.000000  1062.000000   275.000000    83.000000     911.000000   \n",
       "75%      26.000000  1237.000000   275.000000   140.000000    1117.000000   \n",
       "max     119.000000  2040.000000  1189.000000   637.000000    2214.000000   \n",
       "\n",
       "           NOx(GT)  PT08.S3(NOx)      NO2(GT)  PT08.S4(NO2)  PT08.S5(O3)  \\\n",
       "count  9357.000000   9357.000000  9357.000000   9357.000000  9357.000000   \n",
       "mean    240.731217    832.742225   109.414877   1453.014535  1030.511916   \n",
       "std     206.618453    255.709423    47.221662    347.434084   410.916759   \n",
       "min       2.000000    322.000000     2.000000    551.000000   221.000000   \n",
       "25%      97.000000    655.000000    73.000000   1228.000000   726.000000   \n",
       "50%     174.000000    807.000000   102.000000   1460.000000   964.000000   \n",
       "75%     318.000000    968.000000   137.000000   1677.000000  1287.000000   \n",
       "max    1479.000000   2683.000000   340.000000   2775.000000  2523.000000   \n",
       "\n",
       "                T           RH            AH  \n",
       "count  9357.00000  9357.000000   9357.000000  \n",
       "mean    183.17356   488.174308  10173.815539  \n",
       "std      88.21883   173.543259   4048.288597  \n",
       "min     -19.00000    92.000000   1847.000000  \n",
       "25%     119.00000   354.000000   7262.000000  \n",
       "50%     176.00000   489.000000   9875.000000  \n",
       "75%     243.00000   619.000000  13067.000000  \n",
       "max     446.00000   887.000000  22310.000000  "
      ]
     },
     "execution_count": 74,
     "metadata": {},
     "output_type": "execute_result"
    }
   ],
   "source": [
    "# now, we should replace the missing values that are represented as -200 or -2000\n",
    "airqual.replace(to_replace=-200,value=None,inplace=True)\n",
    "airqual.replace(to_replace=-2000,value=None,inplace=True)\n",
    "# I find it most likely that these are sensor failures, so I will backfill this data to the most recent measurement\n",
    "airqual.fillna(method='bfill',inplace=True)\n",
    "airqual.describe()"
   ]
  },
  {
   "cell_type": "markdown",
   "metadata": {},
   "source": [
    "Above, we can see a marked improvement in the quality of the data. As such, let's move on to building our model\n",
    "\n",
    "### Building A Simple Model\n",
    "In this section, we will lag the CO variable by one hour as instructed to the test, we will benchmark this model vs. a simple AR1 model"
   ]
  },
  {
   "cell_type": "code",
   "execution_count": 75,
   "metadata": {},
   "outputs": [
    {
     "name": "stdout",
     "output_type": "stream",
     "text": [
      "<class 'pandas.core.frame.DataFrame'>\n",
      "Int64Index: 9356 entries, 0 to 9355\n",
      "Data columns (total 16 columns):\n",
      " #   Column         Non-Null Count  Dtype         \n",
      "---  ------         --------------  -----         \n",
      " 0   Date           9356 non-null   datetime64[ns]\n",
      " 1   Time           9356 non-null   object        \n",
      " 2   CO(GT)         9356 non-null   float64       \n",
      " 3   PT08.S1(CO)    9356 non-null   float64       \n",
      " 4   NMHC(GT)       9356 non-null   float64       \n",
      " 5   C6H6(GT)       9356 non-null   float64       \n",
      " 6   PT08.S2(NMHC)  9356 non-null   float64       \n",
      " 7   NOx(GT)        9356 non-null   float64       \n",
      " 8   PT08.S3(NOx)   9356 non-null   float64       \n",
      " 9   NO2(GT)        9356 non-null   float64       \n",
      " 10  PT08.S4(NO2)   9356 non-null   float64       \n",
      " 11  PT08.S5(O3)    9356 non-null   float64       \n",
      " 12  T              9356 non-null   float64       \n",
      " 13  RH             9356 non-null   float64       \n",
      " 14  AH             9356 non-null   float64       \n",
      " 15  target         9356 non-null   float64       \n",
      "dtypes: datetime64[ns](1), float64(14), object(1)\n",
      "memory usage: 1.2+ MB\n"
     ]
    }
   ],
   "source": [
    "airqual['target'] = airqual['CO(GT)'].shift(-1)\n",
    "# since we have shifted the data, we have introduced another na at the end of dataset, we need to again remove\n",
    "airqual = airqual.dropna()\n",
    "airqual.info()"
   ]
  },
  {
   "cell_type": "code",
   "execution_count": 76,
   "metadata": {},
   "outputs": [],
   "source": [
    "from sklearn import linear_model\n",
    "from sklearn.model_selection import train_test_split\n",
    "from sklearn import metrics"
   ]
  },
  {
   "cell_type": "code",
   "execution_count": 77,
   "metadata": {},
   "outputs": [
    {
     "data": {
      "text/plain": [
       "target           0.752690\n",
       "NOx(GT)          0.736721\n",
       "C6H6(GT)         0.710729\n",
       "PT08.S1(CO)      0.707961\n",
       "PT08.S2(NMHC)    0.701620\n",
       "PT08.S5(O3)      0.685476\n",
       "NO2(GT)          0.659651\n",
       "PT08.S4(NO2)     0.452442\n",
       "NMHC(GT)         0.214824\n",
       "RH               0.046115\n",
       "AH               0.003446\n",
       "T               -0.022841\n",
       "PT08.S3(NOx)    -0.580250\n",
       "Name: CO(GT), dtype: float64"
      ]
     },
     "execution_count": 77,
     "metadata": {},
     "output_type": "execute_result"
    }
   ],
   "source": [
    "df_corr = airqual.corr()\n",
    "df_co_corr = df_corr['CO(GT)'][1:]\n",
    "df_co_corr.sort_values(ascending=False)"
   ]
  },
  {
   "cell_type": "markdown",
   "metadata": {},
   "source": [
    "Notice, after the data cleaning, the correlation of the different factors and CO had changed substantially."
   ]
  },
  {
   "cell_type": "code",
   "execution_count": 89,
   "metadata": {},
   "outputs": [
    {
     "data": {
      "text/html": [
       "<div>\n",
       "<style scoped>\n",
       "    .dataframe tbody tr th:only-of-type {\n",
       "        vertical-align: middle;\n",
       "    }\n",
       "\n",
       "    .dataframe tbody tr th {\n",
       "        vertical-align: top;\n",
       "    }\n",
       "\n",
       "    .dataframe thead th {\n",
       "        text-align: right;\n",
       "    }\n",
       "</style>\n",
       "<table border=\"1\" class=\"dataframe\">\n",
       "  <thead>\n",
       "    <tr style=\"text-align: right;\">\n",
       "      <th></th>\n",
       "      <th>Date</th>\n",
       "      <th>Time</th>\n",
       "      <th>CO(GT)</th>\n",
       "      <th>PT08.S1(CO)</th>\n",
       "      <th>NMHC(GT)</th>\n",
       "      <th>C6H6(GT)</th>\n",
       "      <th>PT08.S2(NMHC)</th>\n",
       "      <th>NOx(GT)</th>\n",
       "      <th>PT08.S3(NOx)</th>\n",
       "      <th>NO2(GT)</th>\n",
       "      <th>PT08.S4(NO2)</th>\n",
       "      <th>PT08.S5(O3)</th>\n",
       "      <th>T</th>\n",
       "      <th>RH</th>\n",
       "      <th>AH</th>\n",
       "      <th>target</th>\n",
       "    </tr>\n",
       "  </thead>\n",
       "  <tbody>\n",
       "    <tr>\n",
       "      <th>0</th>\n",
       "      <td>2004-10-03</td>\n",
       "      <td>18.00.00</td>\n",
       "      <td>26.0</td>\n",
       "      <td>1360.0</td>\n",
       "      <td>150.0</td>\n",
       "      <td>119.0</td>\n",
       "      <td>1046.0</td>\n",
       "      <td>166.0</td>\n",
       "      <td>1056.0</td>\n",
       "      <td>113.0</td>\n",
       "      <td>1692.0</td>\n",
       "      <td>1268.0</td>\n",
       "      <td>136.0</td>\n",
       "      <td>489.0</td>\n",
       "      <td>7578.0</td>\n",
       "      <td>2.0</td>\n",
       "    </tr>\n",
       "    <tr>\n",
       "      <th>1</th>\n",
       "      <td>2004-10-03</td>\n",
       "      <td>19.00.00</td>\n",
       "      <td>2.0</td>\n",
       "      <td>1292.0</td>\n",
       "      <td>112.0</td>\n",
       "      <td>94.0</td>\n",
       "      <td>955.0</td>\n",
       "      <td>103.0</td>\n",
       "      <td>1174.0</td>\n",
       "      <td>92.0</td>\n",
       "      <td>1559.0</td>\n",
       "      <td>972.0</td>\n",
       "      <td>133.0</td>\n",
       "      <td>477.0</td>\n",
       "      <td>7255.0</td>\n",
       "      <td>22.0</td>\n",
       "    </tr>\n",
       "    <tr>\n",
       "      <th>2</th>\n",
       "      <td>2004-10-03</td>\n",
       "      <td>20.00.00</td>\n",
       "      <td>22.0</td>\n",
       "      <td>1402.0</td>\n",
       "      <td>88.0</td>\n",
       "      <td>90.0</td>\n",
       "      <td>939.0</td>\n",
       "      <td>131.0</td>\n",
       "      <td>1140.0</td>\n",
       "      <td>114.0</td>\n",
       "      <td>1555.0</td>\n",
       "      <td>1074.0</td>\n",
       "      <td>119.0</td>\n",
       "      <td>540.0</td>\n",
       "      <td>7502.0</td>\n",
       "      <td>22.0</td>\n",
       "    </tr>\n",
       "    <tr>\n",
       "      <th>3</th>\n",
       "      <td>2004-10-03</td>\n",
       "      <td>21.00.00</td>\n",
       "      <td>22.0</td>\n",
       "      <td>1376.0</td>\n",
       "      <td>80.0</td>\n",
       "      <td>92.0</td>\n",
       "      <td>948.0</td>\n",
       "      <td>172.0</td>\n",
       "      <td>1092.0</td>\n",
       "      <td>122.0</td>\n",
       "      <td>1584.0</td>\n",
       "      <td>1203.0</td>\n",
       "      <td>110.0</td>\n",
       "      <td>600.0</td>\n",
       "      <td>7867.0</td>\n",
       "      <td>16.0</td>\n",
       "    </tr>\n",
       "    <tr>\n",
       "      <th>4</th>\n",
       "      <td>2004-10-03</td>\n",
       "      <td>22.00.00</td>\n",
       "      <td>16.0</td>\n",
       "      <td>1272.0</td>\n",
       "      <td>51.0</td>\n",
       "      <td>65.0</td>\n",
       "      <td>836.0</td>\n",
       "      <td>131.0</td>\n",
       "      <td>1205.0</td>\n",
       "      <td>116.0</td>\n",
       "      <td>1490.0</td>\n",
       "      <td>1110.0</td>\n",
       "      <td>112.0</td>\n",
       "      <td>596.0</td>\n",
       "      <td>7888.0</td>\n",
       "      <td>12.0</td>\n",
       "    </tr>\n",
       "  </tbody>\n",
       "</table>\n",
       "</div>"
      ],
      "text/plain": [
       "        Date      Time  CO(GT)  PT08.S1(CO)  NMHC(GT)  C6H6(GT)  \\\n",
       "0 2004-10-03  18.00.00    26.0       1360.0     150.0     119.0   \n",
       "1 2004-10-03  19.00.00     2.0       1292.0     112.0      94.0   \n",
       "2 2004-10-03  20.00.00    22.0       1402.0      88.0      90.0   \n",
       "3 2004-10-03  21.00.00    22.0       1376.0      80.0      92.0   \n",
       "4 2004-10-03  22.00.00    16.0       1272.0      51.0      65.0   \n",
       "\n",
       "   PT08.S2(NMHC)  NOx(GT)  PT08.S3(NOx)  NO2(GT)  PT08.S4(NO2)  PT08.S5(O3)  \\\n",
       "0         1046.0    166.0        1056.0    113.0        1692.0       1268.0   \n",
       "1          955.0    103.0        1174.0     92.0        1559.0        972.0   \n",
       "2          939.0    131.0        1140.0    114.0        1555.0       1074.0   \n",
       "3          948.0    172.0        1092.0    122.0        1584.0       1203.0   \n",
       "4          836.0    131.0        1205.0    116.0        1490.0       1110.0   \n",
       "\n",
       "       T     RH      AH  target  \n",
       "0  136.0  489.0  7578.0     2.0  \n",
       "1  133.0  477.0  7255.0    22.0  \n",
       "2  119.0  540.0  7502.0    22.0  \n",
       "3  110.0  600.0  7867.0    16.0  \n",
       "4  112.0  596.0  7888.0    12.0  "
      ]
     },
     "execution_count": 89,
     "metadata": {},
     "output_type": "execute_result"
    }
   ],
   "source": [
    "airqual.head()"
   ]
  },
  {
   "cell_type": "code",
   "execution_count": 90,
   "metadata": {},
   "outputs": [],
   "source": [
    "X_train, X_test, y_train, y_test = train_test_split(airqual.iloc[:,2:(airqual.shape[1]-1)],\n",
    "                                                    airqual['target'], test_size=0.4, random_state=0)"
   ]
  },
  {
   "cell_type": "code",
   "execution_count": 91,
   "metadata": {},
   "outputs": [
    {
     "data": {
      "text/plain": [
       "{'Mean-abs-error': 6.181959808818174,\n",
       " 'RMSE': 9.480745098076717,\n",
       " 'R2': 0.5973889744022538}"
      ]
     },
     "execution_count": 91,
     "metadata": {},
     "output_type": "execute_result"
    }
   ],
   "source": [
    "pdata = y_test\n",
    "lm = linear_model.LinearRegression()\n",
    "mod = lm.fit(X_train, y_train)\n",
    "preds = mod.predict(X_test)\n",
    "{\n",
    "    'Mean-abs-error': metrics.mean_absolute_error(y_test, preds),\n",
    "    'RMSE': math.sqrt(metrics.mean_squared_error(y_test, preds)),\n",
    "    'R2': metrics.r2_score(y_test, preds)\n",
    "}"
   ]
  },
  {
   "cell_type": "markdown",
   "metadata": {},
   "source": [
    "Above, we can see some summary statistics about our model, below we will compare to a simple AR1 model for benchmarking"
   ]
  },
  {
   "cell_type": "code",
   "execution_count": 94,
   "metadata": {},
   "outputs": [
    {
     "data": {
      "text/html": [
       "<div>\n",
       "<style scoped>\n",
       "    .dataframe tbody tr th:only-of-type {\n",
       "        vertical-align: middle;\n",
       "    }\n",
       "\n",
       "    .dataframe tbody tr th {\n",
       "        vertical-align: top;\n",
       "    }\n",
       "\n",
       "    .dataframe thead th {\n",
       "        text-align: right;\n",
       "    }\n",
       "</style>\n",
       "<table border=\"1\" class=\"dataframe\">\n",
       "  <thead>\n",
       "    <tr style=\"text-align: right;\">\n",
       "      <th></th>\n",
       "      <th>CO(GT)</th>\n",
       "      <th>target</th>\n",
       "      <th>icept</th>\n",
       "    </tr>\n",
       "  </thead>\n",
       "  <tbody>\n",
       "    <tr>\n",
       "      <th>0</th>\n",
       "      <td>26.0</td>\n",
       "      <td>2.0</td>\n",
       "      <td>1</td>\n",
       "    </tr>\n",
       "    <tr>\n",
       "      <th>1</th>\n",
       "      <td>2.0</td>\n",
       "      <td>22.0</td>\n",
       "      <td>1</td>\n",
       "    </tr>\n",
       "    <tr>\n",
       "      <th>2</th>\n",
       "      <td>22.0</td>\n",
       "      <td>22.0</td>\n",
       "      <td>1</td>\n",
       "    </tr>\n",
       "    <tr>\n",
       "      <th>3</th>\n",
       "      <td>22.0</td>\n",
       "      <td>16.0</td>\n",
       "      <td>1</td>\n",
       "    </tr>\n",
       "    <tr>\n",
       "      <th>4</th>\n",
       "      <td>16.0</td>\n",
       "      <td>12.0</td>\n",
       "      <td>1</td>\n",
       "    </tr>\n",
       "  </tbody>\n",
       "</table>\n",
       "</div>"
      ],
      "text/plain": [
       "   CO(GT)  target  icept\n",
       "0    26.0     2.0      1\n",
       "1     2.0    22.0      1\n",
       "2    22.0    22.0      1\n",
       "3    22.0    16.0      1\n",
       "4    16.0    12.0      1"
      ]
     },
     "execution_count": 94,
     "metadata": {},
     "output_type": "execute_result"
    }
   ],
   "source": [
    "# create the benchmark AR1\n",
    "ardata = airqual.loc[:,['CO(GT)','target']]\n",
    "ardata['icept'] = [1 for i in range(len(airqual))]\n",
    "ardata.head()"
   ]
  },
  {
   "cell_type": "code",
   "execution_count": 95,
   "metadata": {},
   "outputs": [
    {
     "data": {
      "text/plain": [
       "{'Mean-abs-error': 6.426426508349846,\n",
       " 'RMSE': 10.001454246524329,\n",
       " 'R2': 0.5519494356408743}"
      ]
     },
     "execution_count": 95,
     "metadata": {},
     "output_type": "execute_result"
    }
   ],
   "source": [
    "X_train, X_test, y_train, y_test = train_test_split(ardata[['icept','CO(GT)']],ardata['target'], test_size=0.4, random_state=0)\n",
    "ar = linear_model.LinearRegression(fit_intercept=False)\n",
    "ar_mod = ar.fit(X_train, y_train)\n",
    "ar_preds = ar_mod.predict(X_test)\n",
    "{\n",
    "    'Mean-abs-error': metrics.mean_absolute_error(y_test, ar_preds),\n",
    "    'RMSE': math.sqrt(metrics.mean_squared_error(y_test, ar_preds)),\n",
    "    'R2': metrics.r2_score(y_test, ar_preds)\n",
    "}"
   ]
  },
  {
   "cell_type": "code",
   "execution_count": 97,
   "metadata": {},
   "outputs": [],
   "source": [
    "import matplotlib.pyplot as plt"
   ]
  },
  {
   "cell_type": "code",
   "execution_count": 101,
   "metadata": {},
   "outputs": [
    {
     "data": {
      "image/png": "[encoded data removed]",
      "text/plain": [
       "<Figure size 1080x504 with 1 Axes>"
      ]
     },
     "metadata": {
      "needs_background": "light"
     },
     "output_type": "display_data"
    }
   ],
   "source": [
    "plt.figure(figsize=[15,7])\n",
    "p1 = plt.plot(preds, label='full model')\n",
    "p2 = plt.plot(ar_preds, label='AR1 model')\n",
    "p3 = plt.plot(np.array(y_test), label='actual')"
   ]
  },
  {
   "cell_type": "markdown",
   "metadata": {},
   "source": [
    "Above, we try to compare the predictions to the actual but it is too noisy to be useful.\n",
    "\n",
    "Instead, it can be useful to compare cumulative sum of the errors between the two models which we do below."
   ]
  },
  {
   "cell_type": "code",
   "execution_count": 103,
   "metadata": {},
   "outputs": [
    {
     "data": {
      "text/plain": [
       "[<matplotlib.lines.Line2D at 0x7f3ee0e3f780>]"
      ]
     },
     "execution_count": 103,
     "metadata": {},
     "output_type": "execute_result"
    },
    {
     "data": {
      "image/png": "[encoded data removed]",
      "text/plain": [
       "<Figure size 1080x504 with 1 Axes>"
      ]
     },
     "metadata": {
      "needs_background": "light"
     },
     "output_type": "display_data"
    }
   ],
   "source": [
    "plt.figure(figsize=[15,7])\n",
    "plt.plot(np.array(pd.Series((y_test-preds)**2).cumsum()),label=\"full model\")\n",
    "plt.plot(np.array(pd.Series((y_test-ar_preds)**2).cumsum()),label=\"AR1 model\")"
   ]
  },
  {
   "cell_type": "markdown",
   "metadata": {},
   "source": [
    "We can see that our full model outperforms the simple AR1 relatively consistently which leads to a significant improvement over time.\n",
    "\n",
    "#### Conclusion\n",
    "From here, we should begin more in-depth feature engineering, get to know our data better, and then think about what models make the most sense to apply and why. We have set a good foundation here, but the real work has ust b"
   ]
  }
 ],
 "metadata": {
  "kernelspec": {
   "display_name": "Python 3",
   "language": "python",
   "name": "python3"
  },
  "language_info": {
   "codemirror_mode": {
    "name": "ipython",
    "version": 3
   },
   "file_extension": ".py",
   "mimetype": "text/x-python",
   "name": "python",
   "nbconvert_exporter": "python",
   "pygments_lexer": "ipython3",
   "version": "3.6.9"
  }
 },
 "nbformat": 4,
 "nbformat_minor": 4
}
